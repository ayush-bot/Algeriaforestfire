{
 "cells": [
  {
   "cell_type": "code",
   "execution_count": null,
   "id": "ae0e80d8",
   "metadata": {},
   "outputs": [],
   "source": [
    "import pandas as pd\n",
    "import numpy as np\n",
    "import matplotlib.pyplot as plt\n",
    "import seaborn as sns"
   ]
  },
  {
   "cell_type": "markdown",
   "id": "58197d7a",
   "metadata": {},
   "source": []
  },
  {
   "cell_type": "code",
   "execution_count": null,
   "id": "7b6c80f9",
   "metadata": {},
   "outputs": [],
   "source": [
    "dataset=pd.read_csv(\"Algerian_forest_fires_dataset_UPDATE.csv\",header=1)\n",
    "dataset"
   ]
  },
  {
   "cell_type": "code",
   "execution_count": null,
   "id": "ba431c57",
   "metadata": {},
   "outputs": [],
   "source": [
    "dataset.info()"
   ]
  },
  {
   "cell_type": "markdown",
   "id": "1992a465",
   "metadata": {},
   "source": [
    "DAta cleaning \n",
    "check karna kahi missing value and fill it"
   ]
  },
  {
   "cell_type": "code",
   "execution_count": null,
   "id": "1532c9a1",
   "metadata": {},
   "outputs": [],
   "source": [
    "dataset.isnull().sum() #ye column me dekege ka ki null hai ki nhi"
   ]
  },
  {
   "cell_type": "code",
   "execution_count": null,
   "id": "c2653d99",
   "metadata": {},
   "outputs": [],
   "source": [
    "dataset[dataset.isnull().any(axis=1)] # ye row me dekega null hai ki nhi"
   ]
  },
  {
   "cell_type": "code",
   "execution_count": null,
   "id": "45de56b5",
   "metadata": {},
   "outputs": [],
   "source": [
    "dataset.loc[0:122,\"Region\"]=0# yaha 0-122 tak region column banaye and 0 assign kiye aur 122 se last tak 1 assign kiye\n",
    "dataset.loc[122:,\"Region\"]=1"
   ]
  },
  {
   "cell_type": "code",
   "execution_count": null,
   "id": "b2e21d40",
   "metadata": {},
   "outputs": [],
   "source": [
    "dataset.info()#float aya htao memmory barbad"
   ]
  },
  {
   "cell_type": "code",
   "execution_count": null,
   "id": "b57f2dd6",
   "metadata": {},
   "outputs": [],
   "source": [
    "dataset[['Region']]=dataset[[\"Region\"]].astype(int)\n",
    "\n",
    "\n",
    "dataset.info()"
   ]
  },
  {
   "cell_type": "markdown",
   "id": "aee6beca",
   "metadata": {},
   "source": [
    "remove karo null values\n",
    "\n"
   ]
  },
  {
   "cell_type": "code",
   "execution_count": null,
   "id": "f82ab618",
   "metadata": {},
   "outputs": [],
   "source": [
    "dataset.dropna(inplace=True)"
   ]
  },
  {
   "cell_type": "code",
   "execution_count": null,
   "id": "713e21a7",
   "metadata": {},
   "outputs": [],
   "source": [
    "dataset[dataset.isnull().any(axis=1)]"
   ]
  },
  {
   "cell_type": "code",
   "execution_count": null,
   "id": "85caf966",
   "metadata": {},
   "outputs": [],
   "source": [
    "dataset.isnull().sum(axis=0)"
   ]
  },
  {
   "cell_type": "code",
   "execution_count": null,
   "id": "4efc0d34",
   "metadata": {},
   "outputs": [],
   "source": [
    "dataset.iloc[[122]]# 122 row repeat ho rha delete it"
   ]
  },
  {
   "cell_type": "code",
   "execution_count": null,
   "id": "e51b5ec8",
   "metadata": {},
   "outputs": [],
   "source": [
    "#dataset.drop(122,inplace=True)\n",
    "dataset = dataset.drop(dataset.index[122])\n"
   ]
  },
  {
   "cell_type": "code",
   "execution_count": null,
   "id": "7718a75c",
   "metadata": {},
   "outputs": [],
   "source": [
    "dataset.iloc[122]"
   ]
  },
  {
   "cell_type": "code",
   "execution_count": null,
   "id": "2b36acf9",
   "metadata": {},
   "outputs": [],
   "source": [
    "dataset.columns"
   ]
  },
  {
   "cell_type": "markdown",
   "id": "72461ca4",
   "metadata": {},
   "source": [
    "FIX SPACES IN COLUMN NAME SPACE HATAO\n"
   ]
  },
  {
   "cell_type": "code",
   "execution_count": null,
   "id": "90f8143a",
   "metadata": {},
   "outputs": [],
   "source": [
    "dataset.columns=dataset.columns.str.strip()\n",
    "dataset.columns"
   ]
  },
  {
   "cell_type": "code",
   "execution_count": null,
   "id": "6303c041",
   "metadata": {},
   "outputs": [],
   "source": [
    "dataset"
   ]
  },
  {
   "cell_type": "code",
   "execution_count": null,
   "id": "d23ea0bb",
   "metadata": {},
   "outputs": [],
   "source": [
    "dataset.info()"
   ]
  },
  {
   "cell_type": "code",
   "execution_count": null,
   "id": "ec5ef0ec",
   "metadata": {},
   "outputs": [],
   "source": [
    "dataset"
   ]
  },
  {
   "cell_type": "code",
   "execution_count": null,
   "id": "b286ea54",
   "metadata": {},
   "outputs": [],
   "source": [
    "dataset[['day','month','year','Temperature','RH','Ws']] = dataset[['day','month','year','Temperature','RH','Ws']].astype(int)\n",
    "dataset.info()"
   ]
  },
  {
   "cell_type": "code",
   "execution_count": null,
   "id": "7d54490e",
   "metadata": {},
   "outputs": [],
   "source": [
    "object=[features for features in dataset.columns if dataset[features].dtypes=='O']\n",
    "object"
   ]
  },
  {
   "cell_type": "code",
   "execution_count": null,
   "id": "956bc5cb",
   "metadata": {},
   "outputs": [],
   "source": [
    "for i in object:\n",
    "    if i!='Classes':\n",
    "        dataset[i]=dataset[i].astype(float)"
   ]
  },
  {
   "cell_type": "code",
   "execution_count": null,
   "id": "712b0658",
   "metadata": {},
   "outputs": [],
   "source": [
    "dataset.info()"
   ]
  },
  {
   "cell_type": "code",
   "execution_count": null,
   "id": "f0bb93b3",
   "metadata": {},
   "outputs": [],
   "source": [
    "dataset.describe()"
   ]
  },
  {
   "cell_type": "code",
   "execution_count": null,
   "id": "df93d1a4",
   "metadata": {},
   "outputs": [],
   "source": [
    "dataset.to_csv(\"Algerian_forest_fires_dataset_cleaned.csv\",index=False)\n"
   ]
  },
  {
   "cell_type": "markdown",
   "id": "29c6b4b3",
   "metadata": {},
   "source": [
    "DROP unneccessay columns\n",
    "\n"
   ]
  },
  {
   "cell_type": "code",
   "execution_count": null,
   "id": "6d23a8d1",
   "metadata": {},
   "outputs": [],
   "source": [
    "cleaned_dataset=dataset.drop(['month','year','day'],axis=1)\n",
    "cleaned_dataset.head()"
   ]
  },
  {
   "cell_type": "code",
   "execution_count": null,
   "id": "4a7fc3a4",
   "metadata": {},
   "outputs": [],
   "source": [
    "cleaned_dataset['Classes']=np.where(cleaned_dataset['Classes'].str.contains('not fire'),0,1)"
   ]
  },
  {
   "cell_type": "code",
   "execution_count": null,
   "id": "340b4c4e",
   "metadata": {},
   "outputs": [],
   "source": [
    "cleaned_dataset.head()"
   ]
  },
  {
   "cell_type": "code",
   "execution_count": null,
   "id": "9940ee55",
   "metadata": {},
   "outputs": [],
   "source": [
    "cleaned_dataset['Classes'].value_counts()"
   ]
  },
  {
   "cell_type": "markdown",
   "id": "37591168",
   "metadata": {},
   "source": [
    "NOW PLOTTING KA SAMAY HAI CLEANING DONE"
   ]
  },
  {
   "cell_type": "code",
   "execution_count": null,
   "id": "fa28ed78",
   "metadata": {},
   "outputs": [],
   "source": [
    "plt.style.use('seaborn-v0_8')\n",
    "cleaned_dataset.hist(bins=50,figsize=(20,15))\n",
    "plt.show()"
   ]
  },
  {
   "cell_type": "code",
   "execution_count": null,
   "id": "5b30a156",
   "metadata": {},
   "outputs": [],
   "source": [
    "Percentage_of_fire_and_non_fire=cleaned_dataset['Classes'].value_counts(normalize=True)*100"
   ]
  },
  {
   "cell_type": "markdown",
   "id": "8ac3e145",
   "metadata": {},
   "source": [
    "PIE CHART BANA RAHE CLASSSES COLUMN KA"
   ]
  },
  {
   "cell_type": "code",
   "execution_count": null,
   "id": "38beb329",
   "metadata": {},
   "outputs": [],
   "source": [
    "classlabels=['Fire',\"Non Fire\"]\n",
    "plt.figure(figsize=(12,7))\n",
    "plt.pie(Percentage_of_fire_and_non_fire,labels=classlabels)\n",
    "plt.title('pie chart')\n",
    "plt.show()"
   ]
  },
  {
   "cell_type": "markdown",
   "id": "6bafdb45",
   "metadata": {},
   "source": [
    "CORRELATION CHECK"
   ]
  },
  {
   "cell_type": "code",
   "execution_count": null,
   "id": "e0c1e2c2",
   "metadata": {},
   "outputs": [],
   "source": [
    "cleaned_dataset.corr()"
   ]
  },
  {
   "cell_type": "code",
   "execution_count": null,
   "id": "ab707867",
   "metadata": {},
   "outputs": [],
   "source": [
    "sns.heatmap(cleaned_dataset.corr())"
   ]
  },
  {
   "cell_type": "code",
   "execution_count": null,
   "id": "a82139fe",
   "metadata": {},
   "outputs": [],
   "source": [
    "dataset"
   ]
  },
  {
   "cell_type": "markdown",
   "id": "88f34a7e",
   "metadata": {},
   "source": [
    "month ke hisab se fire check krna hai"
   ]
  },
  {
   "cell_type": "code",
   "execution_count": null,
   "metadata": {},
   "outputs": [],
   "source": [
    "dataset['Classes']=np.where(dataset['Classes'].str.contains('not fire'),\"not fire\",\"fire\")"
   ]
  },
  {
   "cell_type": "code",
   "execution_count": null,
   "metadata": {},
   "outputs": [],
   "source": [
    "dftemp=dataset.loc[dataset['Region']==1]\n",
    "plt.subplots(figsize=(13,6))\n",
    "sns.set_style('whitegrid')\n",
    "sns.countplot(x='month',hue='Classes',data=dftemp)\n",
    "plt.xlabel(\"month\",weight=\"bold\")\n",
    "plt.ylabel(\"No of fires in month\",weight=\"bold\")\n",
    "plt.title(\"FIRE ANALYSIS OF SIDI BEL REGION\")"
   ]
  },
  {
   "cell_type": "code",
   "execution_count": null,
   "id": "8a82147e",
   "metadata": {},
   "outputs": [],
   "source": [
    "dftemp1=dataset.loc[dataset['Region']==0]\n",
    "plt.subplots(figsize=(13,6))\n",
    "sns.set_style('whitegrid')\n",
    "sns.countplot(x='month',hue='Classes',data=dftemp1)\n",
    "plt.xlabel(\"month\",weight=\"bold\")\n",
    "plt.ylabel(\"No of fires in month\",weight=\"bold\")\n",
    "plt.title(\"BEJAIA REGION FIRE ANALYSIS\")"
   ]
  },
  {
   "cell_type": "code",
   "execution_count": null,
   "id": "00ed87f4",
   "metadata": {},
   "outputs": [],
   "source": [
    "\n",
    "plt.subplots(figsize=(13,6))\n",
    "sns.set_style('whitegrid')\n",
    "sns.countplot(x='month',hue='Classes',data=dataset)\n",
    "plt.xlabel(\"month\",weight=\"bold\")\n",
    "plt.ylabel(\"No of fires in month\",weight=\"bold\")\n",
    "plt.title(\"DATASET FIRE ANALYSIS\")"
   ]
  },
  {
   "cell_type": "code",
   "execution_count": null,
   "id": "73c054cb",
   "metadata": {},
   "outputs": [],
   "source": [
    " "
   ]
  },
  {
   "cell_type": "code",
   "execution_count": null,
   "metadata": {},
   "outputs": [],
   "source": []
  },
  {
   "cell_type": "code",
   "execution_count": null,
   "id": "78b0615f",
   "metadata": {},
   "outputs": [],
   "source": []
  },
  {
   "cell_type": "code",
   "execution_count": null,
   "id": "f90fec6e",
   "metadata": {},
   "outputs": [],
   "source": []
  },
  {
   "cell_type": "code",
   "execution_count": null,
   "id": "30ac0fc1",
   "metadata": {},
   "outputs": [],
   "source": []
  },
  {
   "cell_type": "code",
   "execution_count": null,
   "id": "19ff21d3",
   "metadata": {},
   "outputs": [],
   "source": []
  },
  {
   "cell_type": "code",
   "execution_count": null,
   "metadata": {},
   "outputs": [],
   "source": []
  },
  {
   "cell_type": "code",
   "execution_count": null,
   "id": "1fd54215",
   "metadata": {},
   "outputs": [],
   "source": []
  },
  {
   "cell_type": "code",
   "execution_count": null,
   "id": "54b4915d",
   "metadata": {},
   "outputs": [],
   "source": []
  },
  {
   "cell_type": "code",
   "execution_count": null,
   "id": "994a1121",
   "metadata": {},
   "outputs": [],
   "source": []
  }
 ],
 "metadata": {
  "kernelspec": {
   "display_name": "Python 3",
   "language": "python",
   "name": "python3"
  },
  "language_info": {
   "codemirror_mode": {
    "name": "ipython",
    "version": 3
   },
   "file_extension": ".py",
   "mimetype": "text/x-python",
   "name": "python",
   "nbconvert_exporter": "python",
   "pygments_lexer": "ipython3",
   "version": "3.12.0"
  }
 },
 "nbformat": 4,
 "nbformat_minor": 5
}
