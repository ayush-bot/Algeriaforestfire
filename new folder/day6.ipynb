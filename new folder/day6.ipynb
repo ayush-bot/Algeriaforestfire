{
 "cells": [
  {
   "cell_type": "code",
   "execution_count": 1,
   "id": "e9757af5",
   "metadata": {},
   "outputs": [
    {
     "name": "stderr",
     "output_type": "stream",
     "text": [
      "DEBUG:root:ye debug message hai\n",
      "INFO:root:ye info ka msg hai\n",
      "WARNING:root:ye warning msg hai\n",
      "ERROR:root:ye error msg hai\n",
      "CRITICAL:root:ye critical msg hai\n"
     ]
    }
   ],
   "source": [
    "import logging\n",
    "#configure krna hai login settings\n",
    "logging.basicConfig(level=logging.DEBUG)\n",
    "#log message\n",
    "logging.debug(\"ye debug message hai\")\n",
    "logging.info(\"ye info ka msg hai\")\n",
    "logging.warning(\"ye warning msg hai\")\n",
    "logging.error(\"ye error msg hai\")\n",
    "logging.critical(\"ye critical msg hai\")"
   ]
  },
  {
   "cell_type": "code",
   "execution_count": 2,
   "id": "c114abb9",
   "metadata": {},
   "outputs": [
    {
     "name": "stderr",
     "output_type": "stream",
     "text": [
      "2025-34-07/04/25 22:34:53-root-DEBUG-ye debug message yes hai\n",
      "2025-34-07/04/25 22:34:53-root-INFO-ye info ka msg hai\n",
      "2025-34-07/04/25 22:34:53-root-WARNING-ye warning msg hai\n",
      "2025-34-07/04/25 22:34:53-root-ERROR-ye error msg hai\n",
      "2025-34-07/04/25 22:34:53-root-CRITICAL-ye critical msg hai\n"
     ]
    }
   ],
   "source": [
    "#configure karna ki msg kaise display hoga\n",
    "import logging\n",
    "logging.basicConfig(file='app.log',y='w',level=logging.DEBUG,\n",
    "                    format='%(asctime)s-%(name)s-%(levelname)s-%(message)s',\n",
    "                    datefmt='%Y-%M-%D %H:%M:%S'\n",
    "                    )\n",
    "logging.debug(\"ye debug message yes hai\")\n",
    "logging.info(\"ye info ka msg hai\")\n",
    "logging.warning(\"ye warning msg hai\")\n",
    "logging.error(\"ye error msg hai\")\n",
    "logging.critical(\"ye critical msg hai\")"
   ]
  },
  {
   "cell_type": "code",
   "execution_count": 3,
   "id": "c52ae736",
   "metadata": {},
   "outputs": [],
   "source": [
    "import logging\n",
    "logger1=logging.getLogger('module1')\n",
    "logger1.setLevel(logging.DEBUG)\n",
    "\n",
    "logger2=logging.getLogger('module2')\n",
    "logger2.setLevel(logging.WARNING)\n",
    "\n",
    "logging.basicConfig(filename='app.log',filemode='w',level=logging.DEBUG,\n",
    "                    format='%(asctime)s-%(name)s-%(levelname)s-%(message)s',\n",
    "                    datefmt='%Y-%M-%D %H:%M:%S'\n",
    "                    )"
   ]
  },
  {
   "cell_type": "code",
   "execution_count": 4,
   "id": "2f55935c",
   "metadata": {},
   "outputs": [
    {
     "name": "stderr",
     "output_type": "stream",
     "text": [
      "2025-24-07/04/25 23:24:04-module1-DEBUG-ye debug messgae hai for module 1\n",
      "2025-24-07/04/25 23:24:04-module2-WARNING-ye warning msg hai module 2 ka\n"
     ]
    }
   ],
   "source": [
    "logger1.debug(\"ye debug messgae hai for module 1\")\n",
    "logger2.warning(\"ye warning msg hai module 2 ka\")"
   ]
  },
  {
   "cell_type": "code",
   "execution_count": 1,
   "id": "0cc5fa8c",
   "metadata": {},
   "outputs": [
    {
     "name": "stdout",
     "output_type": "stream",
     "text": [
      "Collecting bs4\n",
      "  Downloading bs4-0.0.2-py2.py3-none-any.whl.metadata (411 bytes)\n",
      "Requirement already satisfied: beautifulsoup4 in c:\\users\\administrator\\downloads\\udemy\\python\\venv\\lib\\site-packages (from bs4) (4.13.4)\n",
      "Requirement already satisfied: soupsieve>1.2 in c:\\users\\administrator\\downloads\\udemy\\python\\venv\\lib\\site-packages (from beautifulsoup4->bs4) (2.7)\n",
      "Requirement already satisfied: typing-extensions>=4.0.0 in c:\\users\\administrator\\downloads\\udemy\\python\\venv\\lib\\site-packages (from beautifulsoup4->bs4) (4.14.0)\n",
      "Downloading bs4-0.0.2-py2.py3-none-any.whl (1.2 kB)\n",
      "Installing collected packages: bs4\n",
      "Successfully installed bs4-0.0.2\n"
     ]
    }
   ],
   "source": [
    "!pip install bs4"
   ]
  },
  {
   "cell_type": "code",
   "execution_count": null,
   "id": "9c818de3",
   "metadata": {},
   "outputs": [],
   "source": []
  },
  {
   "cell_type": "code",
   "execution_count": null,
   "id": "74b5e40b",
   "metadata": {},
   "outputs": [],
   "source": []
  },
  {
   "cell_type": "code",
   "execution_count": null,
   "id": "ae7426ac",
   "metadata": {},
   "outputs": [],
   "source": []
  },
  {
   "cell_type": "code",
   "execution_count": null,
   "id": "32f48ac3",
   "metadata": {},
   "outputs": [],
   "source": []
  }
 ],
 "metadata": {
  "kernelspec": {
   "display_name": "Python 3",
   "language": "python",
   "name": "python3"
  },
  "language_info": {
   "codemirror_mode": {
    "name": "ipython",
    "version": 3
   },
   "file_extension": ".py",
   "mimetype": "text/x-python",
   "name": "python",
   "nbconvert_exporter": "python",
   "pygments_lexer": "ipython3",
   "version": "3.12.0"
  }
 },
 "nbformat": 4,
 "nbformat_minor": 5
}
