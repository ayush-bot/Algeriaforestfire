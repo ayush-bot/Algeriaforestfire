{
 "cells": [
  {
   "cell_type": "code",
   "execution_count": 1,
   "id": "0ad21613",
   "metadata": {},
   "outputs": [],
   "source": [
    "import os\n",
    "new_directory=\"package\"\n",
    "os.mkdir(new_directory)\n"
   ]
  },
  {
   "cell_type": "code",
   "execution_count": 2,
   "id": "ee0cc4fc",
   "metadata": {},
   "outputs": [
    {
     "name": "stdout",
     "output_type": "stream",
     "text": [
      "['advance_multi_process.py', 'advance_multi_thread.py', 'app1.log', 'data', 'day1.ipynb', 'day2.ipynb', 'day3.ipynb', 'day4.ipynb', 'day5.ipynb', 'day6.ipynb', 'example.csv', 'file', 'log', 'log_app.py', 'memory.ipynb', 'multi__processing.py', 'package', 'placement.csv', 'Project_linear_regression.ipynb', 'test', 'web_scrapping.py', '__pycache__']\n"
     ]
    }
   ],
   "source": [
    "print(os.listdir(\".\"))"
   ]
  },
  {
   "cell_type": "code",
   "execution_count": 3,
   "id": "9c3c8751",
   "metadata": {},
   "outputs": [
    {
     "name": "stdout",
     "output_type": "stream",
     "text": [
      "c:\\Users\\Administrator\\Downloads\\Udemy\\python\\resources\\new folder\\folder\\file.txt\n"
     ]
    }
   ],
   "source": [
    "#joining paths\n",
    "dir=\"folder\"\n",
    "filename=\"file.txt\"\n",
    "full_path=os.path.join(os.getcwd(),dir,filename)\n",
    "print(full_path)"
   ]
  },
  {
   "cell_type": "code",
   "execution_count": 4,
   "metadata": {},
   "outputs": [
    {
     "ename": "SyntaxError",
     "evalue": "incomplete input (2589147505.py, line 2)",
     "output_type": "error",
     "traceback": [
      "  \u001b[36mCell\u001b[39m\u001b[36m \u001b[39m\u001b[32mIn[4]\u001b[39m\u001b[32m, line 2\u001b[39m\n\u001b[31m    \u001b[39m\n    ^\n\u001b[31mSyntaxError\u001b[39m\u001b[31m:\u001b[39m incomplete input\n"
     ]
    }
   ],
   "source": [
    "with open(\"day3.ipynb\",'w') as  file:\n",
    "     "
   ]
  },
  {
   "cell_type": "code",
   "execution_count": null,
   "metadata": {},
   "outputs": [
    {
     "name": "stdout",
     "output_type": "stream",
     "text": [
      "invalid literal for int() with base 10: '@'\n",
      "the block get exceuted\n"
     ]
    }
   ],
   "source": [
    "try:\n",
    "    X=int(input(\"enter the number\"))\n",
    "    num=100/X\n",
    "except ZeroDivisionError as zv:\n",
    "    print(zv)\n",
    "except NameError as nm:\n",
    "    print(nm)\n",
    "except Exception as ex:\n",
    "    print(ex)\n",
    "else:\n",
    "    print(f\"the result is {num}\")\n",
    "finally:\n",
    "    print(\"the block get exceuted\")"
   ]
  },
  {
   "cell_type": "code",
   "execution_count": null,
   "metadata": {},
   "outputs": [
    {
     "ename": "FileNotFoundError",
     "evalue": "[WinError 2] The system cannot find the file specified: 'new folder' -> 'new_folder'",
     "output_type": "error",
     "traceback": [
      "\u001b[31m---------------------------------------------------------------------------\u001b[39m",
      "\u001b[31mFileNotFoundError\u001b[39m                         Traceback (most recent call last)",
      "\u001b[36mCell\u001b[39m\u001b[36m \u001b[39m\u001b[32mIn[15]\u001b[39m\u001b[32m, line 3\u001b[39m\n\u001b[32m      1\u001b[39m \u001b[38;5;28;01mimport\u001b[39;00m\u001b[38;5;250m \u001b[39m\u001b[34;01mos\u001b[39;00m\n\u001b[32m----> \u001b[39m\u001b[32m3\u001b[39m \u001b[43mos\u001b[49m\u001b[43m.\u001b[49m\u001b[43mrename\u001b[49m\u001b[43m(\u001b[49m\u001b[33;43m\"\u001b[39;49m\u001b[33;43mnew folder\u001b[39;49m\u001b[33;43m\"\u001b[39;49m\u001b[43m,\u001b[49m\u001b[43m \u001b[49m\u001b[33;43m\"\u001b[39;49m\u001b[33;43mnew_folder\u001b[39;49m\u001b[33;43m\"\u001b[39;49m\u001b[43m)\u001b[49m\n",
      "\u001b[31mFileNotFoundError\u001b[39m: [WinError 2] The system cannot find the file specified: 'new folder' -> 'new_folder'"
     ]
    }
   ],
   "source": [
    "import os\n",
    "\n",
    "os.rename(\"new folder\", \"new_folder\")\n"
   ]
  },
  {
   "cell_type": "code",
   "execution_count": null,
   "id": "2d84d769",
   "metadata": {},
   "outputs": [],
   "source": []
  },
  {
   "cell_type": "code",
   "execution_count": null,
   "id": "2671fa2a",
   "metadata": {},
   "outputs": [],
   "source": []
  }
 ],
 "metadata": {
  "kernelspec": {
   "display_name": "Python 3",
   "language": "python",
   "name": "python3"
  },
  "language_info": {
   "codemirror_mode": {
    "name": "ipython",
    "version": 3
   },
   "file_extension": ".py",
   "mimetype": "text/x-python",
   "name": "python",
   "nbconvert_exporter": "python",
   "pygments_lexer": "ipython3",
   "version": "3.12.0"
  }
 },
 "nbformat": 4,
 "nbformat_minor": 5
}
