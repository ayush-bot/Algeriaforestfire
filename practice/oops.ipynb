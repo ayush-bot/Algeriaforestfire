{
 "cells": [
  {
   "cell_type": "code",
   "execution_count": null,
   "id": "c5f7b36e",
   "metadata": {},
   "outputs": [
    {
     "name": "stdout",
     "output_type": "stream",
     "text": [
      "<class '__main__.car'>\n"
     ]
    }
   ],
   "source": [
    "class car:#this is class initilization with name car\n",
    "    pass\n",
    "audi=car()# ye ek object hai class ke andar jiska naam audi hai\n",
    "bmw=car()\n",
    "print(type(audi))\n",
    "\n",
    "    "
   ]
  },
  {
   "cell_type": "code",
   "execution_count": 1,
   "id": "eb98474b",
   "metadata": {},
   "outputs": [
    {
     "name": "stdout",
     "output_type": "stream",
     "text": [
      "Collecting flask\n",
      "  Downloading flask-3.1.1-py3-none-any.whl.metadata (3.0 kB)\n",
      "Collecting blinker>=1.9.0 (from flask)\n",
      "  Downloading blinker-1.9.0-py3-none-any.whl.metadata (1.6 kB)\n",
      "Collecting click>=8.1.3 (from flask)\n",
      "  Downloading click-8.2.1-py3-none-any.whl.metadata (2.5 kB)\n",
      "Collecting itsdangerous>=2.2.0 (from flask)\n",
      "  Downloading itsdangerous-2.2.0-py3-none-any.whl.metadata (1.9 kB)\n",
      "Collecting jinja2>=3.1.2 (from flask)\n",
      "  Downloading jinja2-3.1.6-py3-none-any.whl.metadata (2.9 kB)\n",
      "Collecting markupsafe>=2.1.1 (from flask)\n",
      "  Downloading MarkupSafe-3.0.2-cp312-cp312-win_amd64.whl.metadata (4.1 kB)\n",
      "Collecting werkzeug>=3.1.0 (from flask)\n",
      "  Downloading werkzeug-3.1.3-py3-none-any.whl.metadata (3.7 kB)\n",
      "Requirement already satisfied: colorama in c:\\users\\administrator\\downloads\\udemy\\python\\venv\\lib\\site-packages (from click>=8.1.3->flask) (0.4.6)\n",
      "Downloading flask-3.1.1-py3-none-any.whl (103 kB)\n",
      "Downloading blinker-1.9.0-py3-none-any.whl (8.5 kB)\n",
      "Downloading click-8.2.1-py3-none-any.whl (102 kB)\n",
      "Downloading itsdangerous-2.2.0-py3-none-any.whl (16 kB)\n",
      "Downloading jinja2-3.1.6-py3-none-any.whl (134 kB)\n",
      "Downloading MarkupSafe-3.0.2-cp312-cp312-win_amd64.whl (15 kB)\n",
      "Downloading werkzeug-3.1.3-py3-none-any.whl (224 kB)\n",
      "Installing collected packages: markupsafe, itsdangerous, click, blinker, werkzeug, jinja2, flask\n",
      "\n",
      "   ----- ---------------------------------- 1/7 [itsdangerous]\n",
      "   ----------- ---------------------------- 2/7 [click]\n",
      "   ----------- ---------------------------- 2/7 [click]\n",
      "   ----------- ---------------------------- 2/7 [click]\n",
      "   ----------------- ---------------------- 3/7 [blinker]\n",
      "   ---------------------- ----------------- 4/7 [werkzeug]\n",
      "   ---------------------- ----------------- 4/7 [werkzeug]\n",
      "   ---------------------- ----------------- 4/7 [werkzeug]\n",
      "   ---------------------- ----------------- 4/7 [werkzeug]\n",
      "   ---------------------- ----------------- 4/7 [werkzeug]\n",
      "   ---------------------- ----------------- 4/7 [werkzeug]\n",
      "   ---------------------- ----------------- 4/7 [werkzeug]\n",
      "   ---------------------- ----------------- 4/7 [werkzeug]\n",
      "   ---------------------- ----------------- 4/7 [werkzeug]\n",
      "   ---------------------------- ----------- 5/7 [jinja2]\n",
      "   ---------------------------- ----------- 5/7 [jinja2]\n",
      "   ---------------------------- ----------- 5/7 [jinja2]\n",
      "   ---------------------------- ----------- 5/7 [jinja2]\n",
      "   ---------------------------------- ----- 6/7 [flask]\n",
      "   ---------------------------------- ----- 6/7 [flask]\n",
      "   ---------------------------------- ----- 6/7 [flask]\n",
      "   ---------------------------------- ----- 6/7 [flask]\n",
      "   ---------------------------------------- 7/7 [flask]\n",
      "\n",
      "Successfully installed blinker-1.9.0 click-8.2.1 flask-3.1.1 itsdangerous-2.2.0 jinja2-3.1.6 markupsafe-3.0.2 werkzeug-3.1.3\n"
     ]
    }
   ],
   "source": [
    "!pip install flask"
   ]
  },
  {
   "cell_type": "code",
   "execution_count": null,
   "id": "27cab85c",
   "metadata": {},
   "outputs": [
    {
     "name": "stdout",
     "output_type": "stream",
     "text": [
      "<__main__.car object at 0x00000226CD763590>\n"
     ]
    }
   ],
   "source": [
    "print(audi)# ye audi object kahi store hua jiska memory location diya hua hai"
   ]
  },
  {
   "cell_type": "code",
   "execution_count": null,
   "id": "c1d837b1",
   "metadata": {},
   "outputs": [
    {
     "name": "stdout",
     "output_type": "stream",
     "text": [
      "49\n",
      "<class 'int'>\n"
     ]
    }
   ],
   "source": [
    "audi.torque=49# ye attributes hai audi ke ya object ke\n",
    "print(audi.torque)\n",
    "print(type(audi.torque))"
   ]
  },
  {
   "cell_type": "code",
   "execution_count": 15,
   "id": "93469eb5",
   "metadata": {},
   "outputs": [
    {
     "name": "stdout",
     "output_type": "stream",
     "text": [
      "<__main__.dog object at 0x00000226CD360200>\n",
      "23\n",
      "buddy\n"
     ]
    }
   ],
   "source": [
    "#instance variable and methods\n",
    "class dog:\n",
    "    def __init__(self,name,age):\n",
    "        self.name=name\n",
    "        self.age=age\n",
    "    #create an object\n",
    "dog1=dog(\"buddy\",23)\n",
    "print(dog1)\n",
    "print(dog1.age)\n",
    "print(dog1.name)\n"
   ]
  },
  {
   "cell_type": "code",
   "execution_count": null,
   "id": "e89cf74f",
   "metadata": {},
   "outputs": [
    {
     "name": "stdout",
     "output_type": "stream",
     "text": [
      "Deepa\n"
     ]
    }
   ],
   "source": [
    "dog2=dog(\"Deepa\",25)\n",
    "print(dog2.name)\n"
   ]
  },
  {
   "cell_type": "code",
   "execution_count": 24,
   "id": "9e958dbf",
   "metadata": {},
   "outputs": [],
   "source": [
    "class car:\n",
    "    def __init__(self,name,price):\n",
    "        self.name=name\n",
    "        self.price=price\n",
    "car1=car(\"BMW\",10000 )\n",
    "car2=car(\"ferrari\",1000000 )"
   ]
  },
  {
   "cell_type": "code",
   "execution_count": 21,
   "id": "5c2408c0",
   "metadata": {},
   "outputs": [
    {
     "name": "stdout",
     "output_type": "stream",
     "text": [
      "BMW\n",
      "10000\n"
     ]
    }
   ],
   "source": [
    "print(car1.name)\n",
    "print(car1.price)"
   ]
  },
  {
   "cell_type": "code",
   "execution_count": 26,
   "id": "c0270d75",
   "metadata": {},
   "outputs": [
    {
     "name": "stdout",
     "output_type": "stream",
     "text": [
      "ayu says woof\n",
      "deepa says woof\n"
     ]
    }
   ],
   "source": [
    "#instance method\n",
    "class dog:\n",
    "    def __init__(self,name,age):\n",
    "        self.name=name\n",
    "        self.age=age\n",
    "    def bark(self):\n",
    "        print(f\"{self.name} says woof\")\n",
    "\n",
    "dog1=dog(\"ayu\",24)\n",
    "dog1.bark()\n",
    "dog2=dog(\"deepa\",24)\n",
    "dog2.bark()\n",
    "        "
   ]
  },
  {
   "cell_type": "code",
   "execution_count": 29,
   "id": "c1ad7340",
   "metadata": {},
   "outputs": [
    {
     "name": "stdout",
     "output_type": "stream",
     "text": [
      "10000 is the money deposited in account\n",
      "5000 is amount left after withdrawing\n",
      "5000 is amount left\n"
     ]
    }
   ],
   "source": [
    "#modeling a bank account\n",
    "class Bank_Acc:\n",
    "    def __init__(self,owner,balance=0):\n",
    "        self.owner=owner\n",
    "        self.balance=balance\n",
    "    def deposit(self,amount_deposit):\n",
    "        self.balance+=amount_deposit\n",
    "        print(f\"{self.balance} is the money deposited in account\")\n",
    "    def withdraw(self,amount_withdraw):\n",
    "        if self.balance>amount_withdraw:\n",
    "            self.balance-=amount_withdraw\n",
    "            print(f\"{self.balance} is amount left after withdrawing\")\n",
    "        else:\n",
    "            print(\"insufficient funds\")\n",
    "    def bal(self):\n",
    "        print(f\"{self.balance} is amount left\")\n",
    "customer=Bank_Acc(\"Ayush\")\n",
    "customer.deposit(10000)\n",
    "customer.withdraw(5000)\n",
    "customer.bal()"
   ]
  },
  {
   "cell_type": "code",
   "execution_count": 41,
   "id": "6f91dd75",
   "metadata": {},
   "outputs": [
    {
     "name": "stdout",
     "output_type": "stream",
     "text": [
      "The person is driving CNG variant car\n",
      "None\n"
     ]
    }
   ],
   "source": [
    " ##inheritance\n",
    "#parent class\n",
    "class car:\n",
    "    def __init__(self,window,door,enginetype):\n",
    "        self.window=window\n",
    "        self.door=door\n",
    "        self.enginetype=enginetype\n",
    "    def drive(self):\n",
    "        print(f\"The person is driving {self.enginetype} variant car\")\n",
    "bmw=car(4,4,\"CNG\")\n",
    "print(bmw.drive())"
   ]
  },
  {
   "cell_type": "code",
   "execution_count": 54,
   "id": "eb5d2d80",
   "metadata": {},
   "outputs": [
    {
     "name": "stdout",
     "output_type": "stream",
     "text": [
      "Is tesla supports self driving:- True\n",
      "The person is driving EV variant car\n"
     ]
    }
   ],
   "source": [
    "class tesla(car):\n",
    "    def __init__(self, window, door, enginetype,is_selfdriving):\n",
    "        super().__init__(window,door,enginetype)\n",
    "        self.is_selfdriving=is_selfdriving\n",
    "    def self_driving(self):\n",
    "        print(f\"Is tesla supports self driving:- { self.is_selfdriving}\")\n",
    "teslaX=tesla(4,4,\"EV\",True)\n",
    "teslaX.self_driving()\n",
    "teslaX.drive()"
   ]
  },
  {
   "cell_type": "code",
   "execution_count": 55,
   "id": "71bbf0dd",
   "metadata": {},
   "outputs": [
    {
     "name": "stdout",
     "output_type": "stream",
     "text": [
      "kullu say woof\n",
      "kullu eats banana\n",
      "None\n"
     ]
    }
   ],
   "source": [
    "#multiple inheritance\n",
    "class animal:\n",
    "    def __init__(self,name):\n",
    "        self.name=name\n",
    "    def eat(self):\n",
    "        print(f\"{self.name} eats banana\")\n",
    "\n",
    "class pet:\n",
    "    def __init__(self,owner):\n",
    "        self.owner=owner\n",
    "class dog(animal,pet):\n",
    "    def __init__(self, name,owner):\n",
    "        animal.__init__(self,name)\n",
    "        pet.__init__(self,owner)\n",
    "    def speak(self):\n",
    "        return  f\"{self.name} say woof\"\n",
    "cow=dog(\"kullu\",\"sawan\")\n",
    "print(cow.speak())   \n",
    "print(cow.eat())"
   ]
  },
  {
   "cell_type": "code",
   "execution_count": null,
   "id": "b9bc30be",
   "metadata": {},
   "outputs": [],
   "source": [
    "#polymorphisium\n",
    "class shape:\n",
    "    def area(self):\n",
    "        return \"the area of figure\"\n",
    "class rectangle(shape):\n",
    "    def __init__(self,width,height):\n",
    "        self.width=width\n",
    "        self.height=height\n",
    "    def area\n"
   ]
  }
 ],
 "metadata": {
  "kernelspec": {
   "display_name": "Python 3",
   "language": "python",
   "name": "python3"
  },
  "language_info": {
   "codemirror_mode": {
    "name": "ipython",
    "version": 3
   },
   "file_extension": ".py",
   "mimetype": "text/x-python",
   "name": "python",
   "nbconvert_exporter": "python",
   "pygments_lexer": "ipython3",
   "version": "3.12.0"
  }
 },
 "nbformat": 4,
 "nbformat_minor": 5
}
